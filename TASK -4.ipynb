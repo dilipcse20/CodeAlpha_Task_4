{
 "cells": [
  {
   "cell_type": "code",
   "execution_count": 1,
   "id": "7d69dcc6-9355-4145-8b53-8cf36d003d4e",
   "metadata": {},
   "outputs": [
    {
     "name": "stdout",
     "output_type": "stream",
     "text": [
      "\n",
      "Sentiment Distribution:\n",
      "Sentiment\n",
      "Positive    39\n",
      "Negative    11\n",
      "Name: count, dtype: int64\n",
      "\n",
      "Emotion Distribution:\n",
      "Emotion\n",
      "None    50\n",
      "Name: count, dtype: int64\n",
      "\n",
      "Sentiment and emotion analysis saved to sentiment_results.csv\n"
     ]
    },
    {
     "data": {
      "image/png": "[encoded data removed]",
      "text/plain": [
       "<Figure size 1000x600 with 1 Axes>"
      ]
     },
     "metadata": {},
     "output_type": "display_data"
    },
    {
     "data": {
      "image/png": "[encoded data removed]",
      "text/plain": [
       "<Figure size 640x480 with 1 Axes>"
      ]
     },
     "metadata": {},
     "output_type": "display_data"
    },
    {
     "name": "stdout",
     "output_type": "stream",
     "text": [
      "\n",
      "Key Insights:\n",
      "- 78.0% positive reviews - shows customers are happy\n",
      "- 22.0% negative reviews - points to needed improvements\n",
      "- Most common emotion: None - use this in marketing\n",
      "- Next Steps:\n",
      "  - Use positive reviews in ads\n",
      "  - Improve product based on negative feedback\n",
      "  - Match marketing tone to the main emotion\n"
     ]
    }
   ],
   "source": [
    "############################################## TASK - 4 #######################################\n",
    "\n",
    "import pandas as pd\n",
    "from textblob import TextBlob\n",
    "from nrclex import NRCLex\n",
    "import nltk\n",
    "import matplotlib.pyplot as plt\n",
    "import seaborn as sns\n",
    "\n",
    "nltk.download(\"movie_reviews\", quiet=True)\n",
    "\n",
    "########################### USING ONLY FIRST 50 RECORDS ###################\n",
    "reviews = []\n",
    "for fileid in nltk.corpus.movie_reviews.fileids()[:50]:  \n",
    "    review_text = \" \".join(nltk.corpus.movie_reviews.words(fileid))\n",
    "    reviews.append({\"Review\": review_text})\n",
    "\n",
    "df = pd.DataFrame(reviews)\n",
    "\n",
    "def get_sentiment(text):\n",
    "    try:\n",
    "        blob = TextBlob(text)\n",
    "        polarity = blob.sentiment.polarity\n",
    "        if polarity > 0:\n",
    "            return \"Positive\"\n",
    "        elif polarity < 0:\n",
    "            return \"Negative\"\n",
    "        else:\n",
    "            return \"Neutral\"\n",
    "    except:\n",
    "        return \"Neutral\"  \n",
    "\n",
    "\n",
    "def get_emotions(text):\n",
    "    try:\n",
    "        nrc = NRCLex(text)\n",
    "        emotions = nrc.top_emotions\n",
    "        return emotions[0][0] if emotions and emotions[0][1] > 0 else \"None\"\n",
    "    except:\n",
    "        return \"None\"  \n",
    "\n",
    "df[\"Sentiment\"] = df[\"Review\"].apply(get_sentiment)\n",
    "df[\"Emotion\"] = df[\"Review\"].apply(get_emotions)\n",
    "\n",
    "sentiment_counts = df[\"Sentiment\"].value_counts()\n",
    "emotion_counts = df[\"Emotion\"].value_counts()\n",
    "\n",
    "print(\"\\nSentiment Distribution:\")\n",
    "print(sentiment_counts)\n",
    "print(\"\\nEmotion Distribution:\")\n",
    "print(emotion_counts)\n",
    "\n",
    "df.to_csv(\"sentiment_results.csv\", index=False)\n",
    "print(\"\\nSentiment and emotion analysis saved to sentiment_results.csv\")\n",
    "\n",
    "########################### BARPLOT ON SENTIMENT ANALYSIS ###################\n",
    "plt.figure(figsize=(10, 6))\n",
    "sns.set_style(\"whitegrid\")\n",
    "plt.subplot(2, 1, 1)\n",
    "sns.barplot(x=sentiment_counts.index, y=sentiment_counts.values, hue=sentiment_counts.index, palette=\"Set1\", legend=False)\n",
    "plt.title(\"Sentiment Distribution of Reviews\")\n",
    "plt.xlabel(\"\")\n",
    "plt.ylabel(\"Count\")\n",
    "plt.savefig(\"Sentiment_Distribution_of_Review.png\")\n",
    "plt.show()\n",
    "\n",
    "########################### BAR PLOT ON EMOTIONS###################\n",
    "plt.subplot(2, 1, 2)\n",
    "sns.barplot(x=emotion_counts.index, y=emotion_counts.values, hue=emotion_counts.index, palette=\"Set2\", legend=False)\n",
    "plt.title(\"Emotion Distribution of Reviews\")\n",
    "plt.xlabel(\"Emotion\")\n",
    "plt.ylabel(\"Count\")\n",
    "plt.xticks(rotation=45)\n",
    "plt.show()\n",
    "plt.tight_layout()\n",
    "plt.savefig(\"sentiment_emotion_distribution.png\")\n",
    "plt.close()\n",
    "\n",
    "positive_pct = (sentiment_counts.get(\"Positive\", 0) / len(df)) * 100\n",
    "negative_pct = (sentiment_counts.get(\"Negative\", 0) / len(df)) * 100\n",
    "dominant_emotion = emotion_counts.idxmax() if not emotion_counts.empty else \"None\"\n",
    "\n",
    "print(\"\\nKey Insights:\")\n",
    "print(f\"- {positive_pct:.1f}% positive reviews - shows customers are happy\")\n",
    "print(f\"- {negative_pct:.1f}% negative reviews - points to needed improvements\") \n",
    "print(f\"- Most common emotion: {dominant_emotion} - use this in marketing\")\n",
    "print(\"- Next Steps:\")\n",
    "print(\"  - Use positive reviews in ads\")\n",
    "print(\"  - Improve product based on negative feedback\")\n",
    "print(\"  - Match marketing tone to the main emotion\")"
   ]
  },
  {
   "cell_type": "code",
   "execution_count": null,
   "id": "7bb60e4f-282f-4172-b9da-b775c3e6b4b1",
   "metadata": {},
   "outputs": [],
   "source": []
  }
 ],
 "metadata": {
  "kernelspec": {
   "display_name": "Python 3 (ipykernel)",
   "language": "python",
   "name": "python3"
  },
  "language_info": {
   "codemirror_mode": {
    "name": "ipython",
    "version": 3
   },
   "file_extension": ".py",
   "mimetype": "text/x-python",
   "name": "python",
   "nbconvert_exporter": "python",
   "pygments_lexer": "ipython3",
   "version": "3.13.0"
  }
 },
 "nbformat": 4,
 "nbformat_minor": 5
}
